{
 "cells": [
  {
   "cell_type": "code",
   "execution_count": 31,
   "metadata": {},
   "outputs": [],
   "source": [
    "import numpy as np\n",
    "import math"
   ]
  },
  {
   "cell_type": "code",
   "execution_count": 73,
   "metadata": {},
   "outputs": [],
   "source": [
    "# def inverse_glf_map(T):\n",
    "\n",
    "#     f = np.zeros((4,1))\n",
    "#     # print(f[0][0])\n",
    "\n",
    "#     for i in range(np.shape(T)[1]):\n",
    "\n",
    "#         if T[0][i] >= 250:\n",
    "#             T[i] = 250\n",
    "#         elif T[i] < -100:\n",
    "#             T[i] = -100\n",
    "#         if 0.06 <= T[i] < 1.2:\n",
    "#             T[i] = 0.06\n",
    "        \n",
    "#         if T[i] >= 1.2:\n",
    "#             A = 0.01\n",
    "#             K = 59.82\n",
    "#             B = 5.0\n",
    "#             nu = 0.38\n",
    "#             C = 0.56\n",
    "#             M = 0.\n",
    "\n",
    "#         if T[i] <= 0.06:\n",
    "#             A = -199.13\n",
    "#             K = -0.09\n",
    "#             B = 8.84\n",
    "#             nu = 5.34\n",
    "#             C = 0.99\n",
    "#             M = -0.57\n",
    "\n",
    "#         f[i][0] = M - (1/B)*math.log((((K-A)/(T[i]-A))**nu)-C)\n",
    "    \n",
    "#     return f\n",
    "\n",
    "def inverse_glf_map(T):\n",
    "    if T >= 250:\n",
    "        T = 250\n",
    "    elif T < -100:\n",
    "        T = -100\n",
    "    if 0.06 <= T < 1.2:\n",
    "        T = 0.06\n",
    "    \n",
    "    if T >= 1.2:\n",
    "        A = 0.01\n",
    "        K = 59.82\n",
    "        B = 5.0\n",
    "        nu = 0.38\n",
    "        C = 0.56\n",
    "        M = 0.\n",
    "\n",
    "    if T <= 0.06:\n",
    "        A = -199.13\n",
    "        K = -0.09\n",
    "        B = 8.84\n",
    "        nu = 5.34\n",
    "        C = 0.99\n",
    "        M = -0.57\n",
    "    cmd = M - (1/B)*math.log((((K-A)/(T-A))**nu)-C)\n",
    "    return cmd"
   ]
  },
  {
   "cell_type": "code",
   "execution_count": 74,
   "metadata": {},
   "outputs": [],
   "source": [
    "lx1 = 1.6;       ly1 = 0.7;         a1 = -0.785\n",
    "lx2 = -2.373776; ly2 = 1.027135;   a2 = 0.785\n",
    "lx3 = -2.373776; ly3 = -1.027135;  a3 = -0.785\n",
    "lx4 = 1.6;       ly4 = -0.7;        a4 = 0.785"
   ]
  },
  {
   "cell_type": "code",
   "execution_count": 75,
   "metadata": {},
   "outputs": [
    {
     "data": {
      "text/plain": [
       "array([[ 0.70738827,  0.        ,  0.        ,  0.70738827],\n",
       "       [-0.70682518,  0.        ,  0.        ,  0.70682518],\n",
       "       [-1.62609208,  0.        ,  0.        ,  1.62609208]])"
      ]
     },
     "execution_count": 75,
     "metadata": {},
     "output_type": "execute_result"
    }
   ],
   "source": [
    "tau = np.array([[0],[200],[0]])\n",
    "\n",
    "T = np.array([[np.cos(a1),np.cos(a2),np.cos(a3),np.cos(a4)],\n",
    "              [np.sin(a1),np.sin(a2),np.sin(a3),np.sin(a4)],\n",
    "              [lx1*np.sin(a1) - ly1*np.cos(a1), lx2*np.sin(a2) - ly2*np.cos(a2), lx3*np.sin(a3) - ly3*np.cos(a3), lx4*np.sin(a4) - ly4*np.cos(a4)]])\n",
    "\n",
    "T[:,1] = np.zeros(3) \n",
    "T[:,2] = np.zeros(3)\n",
    "T"
   ]
  },
  {
   "cell_type": "code",
   "execution_count": 76,
   "metadata": {},
   "outputs": [
    {
     "data": {
      "text/plain": [
       "0.0"
      ]
     },
     "execution_count": 76,
     "metadata": {},
     "output_type": "execute_result"
    }
   ],
   "source": [
    "T_pinv = np.linalg.pinv(T)\n",
    "f = np.dot(T_pinv,tau)\n",
    "f[2][0]"
   ]
  },
  {
   "cell_type": "code",
   "execution_count": 65,
   "metadata": {},
   "outputs": [
    {
     "data": {
      "text/plain": [
       "array([[ 0.70682541, -0.11241655, -0.25862075],\n",
       "       [ 0.        ,  0.        ,  0.        ],\n",
       "       [ 0.        ,  0.        ,  0.        ],\n",
       "       [ 0.70682541,  0.11241655,  0.25862075]])"
      ]
     },
     "execution_count": 65,
     "metadata": {},
     "output_type": "execute_result"
    }
   ],
   "source": [
    "T_pinv"
   ]
  },
  {
   "cell_type": "code",
   "execution_count": 66,
   "metadata": {},
   "outputs": [],
   "source": [
    "l1=2 ;l2=3; l3=4"
   ]
  },
  {
   "cell_type": "code",
   "execution_count": 67,
   "metadata": {},
   "outputs": [
    {
     "name": "stdout",
     "output_type": "stream",
     "text": [
      "0\n",
      "1\n",
      "2\n",
      "3\n"
     ]
    }
   ],
   "source": [
    "for i in range(np.shape(T)[1]):\n",
    "    print(i)"
   ]
  },
  {
   "cell_type": "code",
   "execution_count": 68,
   "metadata": {},
   "outputs": [],
   "source": [
    "f = inverse_glf_map(f)"
   ]
  },
  {
   "cell_type": "code",
   "execution_count": 69,
   "metadata": {},
   "outputs": [
    {
     "data": {
      "text/plain": [
       "array([[-0.55826529],\n",
       "       [ 0.        ],\n",
       "       [ 0.        ],\n",
       "       [ 0.        ]])"
      ]
     },
     "execution_count": 69,
     "metadata": {},
     "output_type": "execute_result"
    }
   ],
   "source": [
    "f"
   ]
  },
  {
   "cell_type": "code",
   "execution_count": 70,
   "metadata": {},
   "outputs": [
    {
     "data": {
      "text/plain": [
       "3"
      ]
     },
     "execution_count": 70,
     "metadata": {},
     "output_type": "execute_result"
    }
   ],
   "source": [
    "len(T)"
   ]
  },
  {
   "cell_type": "code",
   "execution_count": 77,
   "metadata": {},
   "outputs": [
    {
     "data": {
      "text/plain": [
       "array([[-22.48330964],\n",
       "       [  0.        ],\n",
       "       [  0.        ],\n",
       "       [ 22.48330964]])"
      ]
     },
     "execution_count": 77,
     "metadata": {},
     "output_type": "execute_result"
    }
   ],
   "source": [
    "f"
   ]
  },
  {
   "cell_type": "code",
   "execution_count": 78,
   "metadata": {},
   "outputs": [
    {
     "data": {
      "text/plain": [
       "-0.5582652862574011"
      ]
     },
     "execution_count": 78,
     "metadata": {},
     "output_type": "execute_result"
    }
   ],
   "source": [
    "inverse_glf_map(f[0])"
   ]
  },
  {
   "cell_type": "code",
   "execution_count": 82,
   "metadata": {},
   "outputs": [
    {
     "data": {
      "text/plain": [
       "0.02317730416926815"
      ]
     },
     "execution_count": 82,
     "metadata": {},
     "output_type": "execute_result"
    }
   ],
   "source": [
    "inverse_glf_map(f[3])"
   ]
  },
  {
   "cell_type": "code",
   "execution_count": 1,
   "metadata": {},
   "outputs": [],
   "source": [
    "def ssa(angle):\n",
    "    return angle if angle < 180 else angle-360"
   ]
  },
  {
   "cell_type": "code",
   "execution_count": 4,
   "metadata": {},
   "outputs": [
    {
     "data": {
      "text/plain": [
       "-20"
      ]
     },
     "execution_count": 4,
     "metadata": {},
     "output_type": "execute_result"
    }
   ],
   "source": [
    "ssa(340)"
   ]
  },
  {
   "cell_type": "code",
   "execution_count": null,
   "metadata": {},
   "outputs": [],
   "source": []
  }
 ],
 "metadata": {
  "kernelspec": {
   "display_name": "Python 3.8.10 64-bit",
   "language": "python",
   "name": "python3"
  },
  "language_info": {
   "codemirror_mode": {
    "name": "ipython",
    "version": 3
   },
   "file_extension": ".py",
   "mimetype": "text/x-python",
   "name": "python",
   "nbconvert_exporter": "python",
   "pygments_lexer": "ipython3",
   "version": "3.8.10"
  },
  "orig_nbformat": 4,
  "vscode": {
   "interpreter": {
    "hash": "916dbcbb3f70747c44a77c7bcd40155683ae19c65e1c03b4aa3499c5328201f1"
   }
  }
 },
 "nbformat": 4,
 "nbformat_minor": 2
}
